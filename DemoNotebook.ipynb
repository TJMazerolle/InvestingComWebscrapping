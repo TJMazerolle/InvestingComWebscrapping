{
 "cells": [
  {
   "cell_type": "markdown",
   "metadata": {},
   "source": [
    "# Webscrapping investing.com\n",
    "\n",
    "#### By Troy Mazerolle\n",
    "\n",
    "The following notebook outlines how to scrap articles from the main news page of investing.com.  Following the link https://www.investing.com/news/stock-market-news/X, where X is the page number, we can extract a list of links from each page and then extract the text from each article that the link contains.\n",
    "\n",
    "For more information about the functions used from ScrappingFunctions, the GitHub link to the page is [here](https://github.com/TJMazerolle/InvestingComWebscrapping/blob/main/ScrappingFunctions.py).\n",
    "\n",
    "Note that the results seen below are from running the script as of December 19, 2023."
   ]
  },
  {
   "cell_type": "code",
   "execution_count": 5,
   "metadata": {},
   "outputs": [],
   "source": [
    "from ScrappingFunctions import *\n",
    "import numpy as np\n",
    "import pandas as pd"
   ]
  },
  {
   "cell_type": "markdown",
   "metadata": {},
   "source": [
    "Note that since the following chunk uses Seleneum, to run the chunk below you will need geckodriver.exe in the same folder that wherever you run the script is in.  Also, the script only has the option for Firefox as the browser it uses, so Firefox must be installed.\n",
    "\n",
    "First, we use get_training_links(n) to get the list of training links from the first n pages of https://www.investing.com/news/stock-market-news/X, where X represents all pages between 1 and n.  In the case below, we set n = 2 to get the links from the first two pages, and output the first five links in the list."
   ]
  },
  {
   "cell_type": "code",
   "execution_count": 6,
   "metadata": {},
   "outputs": [
    {
     "name": "stdout",
     "output_type": "stream",
     "text": [
      "Number of Articles: 54\n"
     ]
    },
    {
     "data": {
      "text/plain": [
       "['https://www.investing.com/news/stock-market-news/in-buying-toshiba-a-littleknown-fund-takes-on-japan-incs-toughest-job-3259504',\n",
       " 'https://www.investing.com/news/stock-market-news/factboxhow-are-the-red-sea-attacks-impacting-shipping-in-the-suez-canal-3259239',\n",
       " 'https://www.investing.com/news/stock-market-news/not-just-for-christmas-britains-ms-targets-more-regular-food-shoppers-3259483',\n",
       " 'https://www.investing.com/jp.php?v2=MHA-YGA3MGtmMDo0bjRjZj9vYTI-PDc8MyRlN2Zsbic0cj43YzsxdzA4aXc0aGU_MkFjPGNrZXM9azNhNXQwczB3PmBgMTBqZjk6Pm4rYyI_Y2E4Pjw3IzNyZWs=',\n",
       " 'https://www.investing.com/news/stock-market-news/activist-investor-cevian-takes-13-stake-in-ubs-3259476']"
      ]
     },
     "metadata": {},
     "output_type": "display_data"
    }
   ],
   "source": [
    "training_links = get_training_links(2)\n",
    "print(\"Number of Articles:\", len(training_links))\n",
    "display(training_links[:5])"
   ]
  },
  {
   "cell_type": "markdown",
   "metadata": {},
   "source": [
    "Next, we use get_article_texts(training_links, tracker=False) to take the list of links and extract the article text and the corresponding dates of each article.  We will also output the first five article texts to showcase the results."
   ]
  },
  {
   "cell_type": "code",
   "execution_count": 7,
   "metadata": {},
   "outputs": [
    {
     "data": {
      "text/plain": [
       "[['By Anton Bridge and Makiko Yamazaki TOKYO (Reuters) - A little-known private equity firm is set to take on the toughest job in corporate Japan: turning around Toshiba (OTC:TOSYY). Japan Industrial Partners (JIP) is spearheading a $14 billion takeover that will see the troubled conglomerate delisted on Wednesday after 74 years on the Tokyo exchange. While not a global player, JIP has quietly built up a track record by carving out businesses from big manufacturers, such as  Sony  (NYSE:SONY)\\'s laptop arm and Olympus\\' camera unit. Led by a former banker with a Wharton MBA, it has a reputation for being hands-on with its acquisitions, and for thrift - its executives fly economy. In Toshiba, JIP takes on a sprawling company far bigger and more complex than any it acquired before. The stakes are also higher: Toshiba employs some 106,000 people in businesses including batteries, chips, nuclear power and defence, making it critical to national security. Whether JIP can pull off a turnaround remains an open question given the damage at Toshiba after a decade of scandal, the bankruptcy of U.S. unit Westinghouse, management upheaval and backlash from activist shareholders. JIP, which declined to comment for this article, has said little of its plans which will see it retain current Toshiba CEO Taro Shimada. It is likely to re-list Toshiba shares within a few years, Nikkei Asia on Tuesday cited the conglomerate\\'s outgoing chairman as saying. Some industry insiders see a split-up and sweeping sales - rather than an initial public offering (IPO) - as the most feasible way forward. \"An IPO would be difficult without a compelling growth story that involves global expansion,\" said Damian Thong, head of Japan research at Macquarie Capital Securities. In some past deals, JIP has worked with the likes of U.S. private equity firms KKR and Bain Capital. This time it will take the lead and will need to handle the two-dozen companies and banks investing alongside it, such as chipmaker Rohm, financial services firm  Orix  (NYSE:IX) and utility Chubu Electric Power. \"They have a very nice track record of, not killing companies and enriching themselves in the process, but rather of creating value in these deals,\" said Ulrike Schaede, a professor of Japanese business at the University of California, San Diego. \"Will they find a lot of value at Toshiba? That\\'s a separate question.\" Toshiba declined to comment. Getting this far has already been a challenge. Talks with banks for financing took months to finalise, causing a delay in JIP\\'s bid. Sources have said the firm had to iron out disagreements with banks and investment partners over post-buyout restructuring plans. The equity portion of the deal also took time to be finalised, with several bankers blaming what they said was JIP\\'s difficulty in handling discussions within the consortium. LOW PROFILE Founded in 2002 with investment from Mizuho Financial Group and Bain & Co among others, JIP later became independent. CEO Hidemi Moue previously worked at a Mizuho predecessor, the Industrial Bank of Japan. The firm seldom gives interviews. It sees its role as helping to revive Japanese companies without drawing attention to itself, said multiple people familiar with it. \"Normally I am someone who works quietly in the background, so I\\'m not used to speaking at these things,\" Moue said in a presentation at a 2017 conference in Tokyo, a video of which is available online. JIP works closely with management to turn the businesses it carves out into independent companies, a process that can take a decade in some cases, he told the conference. It is also careful not be seen as a \"hagetaka\", or vulture, said people familiar with the firm. A 2004 novel and a later television series of that title popularised the image of a rapacious foreign fund. Instead, JIP is strict on costs, including its own, to avoid driving up fees and burdening the company it is working to turn around, the people said. Top executives fly economy when going abroad, two of the people said. One former JIP employee recalled that when having dinner with management from investee companies, the fund would pay from its own pocket.  And unlike some buyout firms, JIP does not employ outside consultants to handle restructuring work, due diligence or investment research, preferring to do it in house, according to the former employee and another person with knowledge of the matter. RECORD SALES JIP has invested more than 600 billion yen ($4.2 billion) over 30 deals. It is not clear how much of its own money it is investing in the Toshiba deal. After acquiring Sony\\'s Vaio laptop business in 2014, JIP focused on corporate customers - including Mitsubishi Corp and Mizuho Securities - who now make up 80% of sales. Large-scale orders helped Vaio achieve record sales of 35.8 billion yen in the year ended May, a spokesperson said, while declining to comment on JIP. Vaio\\'s two most recent CEOs have come directly from JIP. Shares of aviation equipment maker Nippon Avionics jumped more than sevenfold since JIP carved out the listed NEC subsidiary in 2020. It changed the company\\'s leadership, revised executive pay to introduce stock-based compensation and started buying back shares. Success with Toshiba depends on whether new management can exit low-margin businesses and figure out how to make money from its advanced technology, said UC San Diego\\'s Schaede. \\n\"That\\'s probably the big question: Will they have the vision and the assets to do that?\" ($1 = 142.1500 yen)',\n",
       "  'Dec 19, 2023'],\n",
       " ['By Ahmad Ghaddar LONDON (Reuters) -Attacks launched by Yemen\\'s Houthi group on commercial ships at the southern end of the Red Sea have prompted several shipping companies to divert vessels, avoiding a route that would take them through Egypt\\'s Suez Canal in the north and its link to the Mediterranean Sea. The Iran-aligned group says the aim of the attacks is to support the Palestinians as Israel and Hamas wage war. The re-routing adds cost and time to vessel journeys. Oil prices and war risk insurance premiums have spiked as a result. WHAT IS THE SUEZ CANAL? * The 192-km (120-mile) Suez Canal is the quickest sea route between Asia and Europe. * The canal is one of seven geographic choke points that are critically important to the world oil trade and are also susceptible to blockages or pirate attacks. * About 9.2 million barrels per day of oil flowed through the canal in the first half of 2023, representing about 9% of global demand, the U.S. Energy Information Administration said, quoting Vortexa data. * Around 4% of global LNG imports estimated at 391 million metric tons in 2023 so far passed through the canal, consultancy Energy Aspects said. * Revenue from tolls paid by shipowners is an important source of income to the Egyptian economy, and hit a record $9.4 billion in the year to June 30. * The canal can accommodate over 60% of the total world fleet of tankers when fully loaded, and over 90% of bulk carriers. It can also accommodate all container carriers, car carriers and general cargo ships. * A ship carrying Saudi crude from the Mideast Gulf can make it to Rotterdam, for example, in 6,436 nautical miles if it traverses the canal. Going around Africa increases the journey to 11,169 nautical miles, adding time and cost to a shipowner. WHAT\\'S THE IMPACT ON CANAL NAVIGATION SO FAR? * On Dec. 17, the Suez Canal Authority (SCA) said that since Nov. 19, 55 ships have rerouted via the Cape of Good Hope, while 2,128 have passed through the canal in the same period. * Two major freight firms including MSC, the world\\'s biggest container shipping line, said on Saturday they would avoid the Suez Canal as Houthi militants stepped up their assaults. * SCA Chairman Osama Rabie said that on Dec. 17, 77 ships passed through the canal, including some ships belonging to shipping lines that had announced temporary diversions. Those were vessels that were already in the Red Sea region before the announcements were made. * On Dec. 18 oil major BP (NYSE:BP) also temporarily paused all transits through the Red Sea. A BRIEF HISTORY * The first canal was dug under the reign of Senausret III, Pharaoh of Egypt (1887-1849 BCE (NYSE:BCE)) linking the Mediterranean and Red Seas via the river Nile and its branches. * Connecting the Mediterranean Sea with the Gulf of Suez and the Red Sea, a new artificial waterway was planned by French engineer Ferdinand de Lesseps. It took 10 years to complete and opened in November 1869. * The canal separates the African continent from Asia, and provides the shortest maritime route between Europe and the lands lying around the Indian and western Pacific oceans. It is one of the world\\'s most heavily used shipping lanes. * Egypt nationalised the canal in 1956, prompting shareholders Britain and France, along with Israel, to invade. The \"Suez Crisis\" only ended after Egypt sank 40 ships in the canal and the United States, Soviet Union and United Nations intervened, forcing Britain, France and Israel to withdraw. * In June 1967, Egypt and some other Arab states fought Israel in what became known as the Six-Day War, with Israeli troops advancing to the east bank of the Suez Canal before a ceasefire was agreed. The canal was very badly damaged in fighting and, with opposing forces encamped on either side, remained closed until after the 1973 Yom Kippur war. \\n* Egypt regained full control of the canal following the Yom Kippur war and it was reopened in June 1975. Sources: Reuters/EIA/Suez Canal Authority/Energy Aspects',\n",
       "  'Dec 18, 2023'],\n",
       " ['By James Davey LONDON (Reuters) - In Britain, a Christmas trip to the food aisles of Marks & Spencer (OTC:MAKSY) is as much a treat as presents under the tree, with millions of shoppers ditching their regular supermarket to buy one in four of the fresh turkeys sold over the festive period. \\xa0\\xa0\\xa0 The challenge the 139-year-old group has faced is that a lot of those shoppers then return in the new year to the likes of market leader Tesco (OTC:TSCDY), No. 2 Sainsbury\\'s or the German discounters Aldi and Lidl which have driven a retail revolution in Britain. After decades of failed reinventions, M&S has entered this festive period in a stronger position, having used savings from a rebuilt supply chain to become more competitive on price and invest in new ranges. Its shares have more than doubled this year. M&S\\'s grocery sales in the 12 weeks to Dec. 2 increased 12.8%, only topped by Aldi and Lidl, according to data from market researcher NIQ. Now it is targeting a bigger slice of Britain’s 229-billion pound ($291 billion) grocery market. Ian Lance, fund manager at Redwheel, M&S\\'s second biggest investor, said management\\'s drive to reshape the business was paying off, and an effort to retain Christmas shoppers could further boost market share and revenue.  \"A big opportunity for M&S’s food business is to convert the occasional shoppers, such as those who use them at Christmas, to more regular shoppers that use them all year round,\" he said. Last year, M&S CEO Stuart Machin set a five-year target to increase its share of the UK grocery market by 1%. It held a 3.4% share in the latest 12-week period, according to NIQ. But that typically hits 5% at the start of December and around 10% in the final days before Christmas.  M&S\\'s chances of retaining some of those customers have been boosted by a strategy struck by Machin, who took over the food business in 2018 before becoming group CEO, with control of its fashion and homewares too, in 2022. Often seen as an upmarket food option that provides lunches for city workers, a posh ready meal or a special occasion steak dinner, he is trying to broaden its appeal to weekly shoppers. M&S now sells 200 essential lines at prices it says are in line with mainstream rivals and by April 2024 plans to have introduced 1,400 new lines, 20% of its total range. More than 1,000 have already launched. It also plans over 1,000 quality upgrades, 15% of the range, with more than 800 done so far, including for steaks and cream cakes, with sales volumes up 20% and 23% respectively year-on-year. It is expanding product ranges where its presence has traditionally been weak, such as in frozen and homecare, where its market share is just 1.3% and 0.8%, according to IRI data. At the same time it is opening bigger stores - including in out-of-town retail parks - and refreshing old ones, while further developing the online joint venture it forged with Ocado (LON:OCDO) in 2019. EFFICIENCIES Data from polling company YouGov shows the strategy is starting to pay off, with consumers\\' perception of the value and quality of M&S\\'s food up 30% and 12% respectively since Machin launched the strategy in 2018. Better prices are being funded by supply chain efficiencies, including annualised savings of 60 million pounds following last year\\'s purchase of logistics operator Gist and annual buying synergies of 60 million pounds with Ocado.  Alex Freudmann, M&S\\'s managing director food, said results from recent full product category upgrades were \"very encouraging\", with biscuit sales up 43% versus last year and soft drink sales up 13%. He said the overall strategy was creating \"the beginnings of a virtuous circle which is winning us new customers and enabling us to operate more efficiently\".  \"There is so much more to go after,\" he told Reuters. If M&S is to grow its regular monthly customer base from the normal 5.5 million households to the festive 8 million, it needs to persuade people like financial services worker, Bev Griffiths, 45, who usually shops at other supermarkets because she wants the major brands that M&S doesn\\'t sell. But she had a near full trolley of festive goods when shopping in an M&S Foodhall in east London last week. \\n\"We largely only come to M&S for the Christmas shop, they do the best turkey and accessories,\" she said. ($1 = 0.7865 pounds)',\n",
       "  'Dec 19, 2023'],\n",
       " [None, None],\n",
       " ['ZURICH (Reuters) -Cevian Capital has taken a 1.3% stake in UBS, worth around 1.2 billion euros ($1.31 billion), the activist investor group said on Tuesday. The investment group said it saw \"significant value potential\" in UBS following its takeover of Credit Suisse. UBS declined to comment on Tuesday. The banks\\'s shares have risen by 47% this year, outpacing the Swiss market index, which has risen by 4%. The stock, which closed on Monday at 25.35 Swiss francs, had the potential to reach 50 francs, Cevian managing partner Lars Forberg said. \"The board and management team are doing an excellent job integrating Credit Suisse and we have been impressed by their commitment to further improve UBS,\" Forberg said. \\n\"Strengthened by the acquisition, UBS is the largest global wealth manager with unique market positions and financial strength,\" he added. \"If the valuation gap to Morgan Stanley at 2x price to tangible book is closed, the UBS share is worth CHF 50.\" ($1 = 0.9156 euros)',\n",
       "  'Dec 19, 2023']]"
      ]
     },
     "metadata": {},
     "output_type": "display_data"
    }
   ],
   "source": [
    "training_text = get_article_texts(training_links, tracker=False)\n",
    "display(training_text[:5])"
   ]
  },
  {
   "cell_type": "markdown",
   "metadata": {},
   "source": [
    "Lastly, the data can be formatted and stored in a dataframe."
   ]
  },
  {
   "cell_type": "code",
   "execution_count": 8,
   "metadata": {},
   "outputs": [
    {
     "data": {
      "text/html": [
       "<div>\n",
       "<style scoped>\n",
       "    .dataframe tbody tr th:only-of-type {\n",
       "        vertical-align: middle;\n",
       "    }\n",
       "\n",
       "    .dataframe tbody tr th {\n",
       "        vertical-align: top;\n",
       "    }\n",
       "\n",
       "    .dataframe thead th {\n",
       "        text-align: right;\n",
       "    }\n",
       "</style>\n",
       "<table border=\"1\" class=\"dataframe\">\n",
       "  <thead>\n",
       "    <tr style=\"text-align: right;\">\n",
       "      <th></th>\n",
       "      <th>Link</th>\n",
       "      <th>Date</th>\n",
       "      <th>Text</th>\n",
       "    </tr>\n",
       "  </thead>\n",
       "  <tbody>\n",
       "    <tr>\n",
       "      <th>0</th>\n",
       "      <td>https://www.investing.com/news/stock-market-ne...</td>\n",
       "      <td>Dec 19, 2023</td>\n",
       "      <td>By Anton Bridge and Makiko Yamazaki TOKYO (Reu...</td>\n",
       "    </tr>\n",
       "    <tr>\n",
       "      <th>1</th>\n",
       "      <td>https://www.investing.com/news/stock-market-ne...</td>\n",
       "      <td>Dec 18, 2023</td>\n",
       "      <td>By Ahmad Ghaddar LONDON (Reuters) -Attacks lau...</td>\n",
       "    </tr>\n",
       "    <tr>\n",
       "      <th>2</th>\n",
       "      <td>https://www.investing.com/news/stock-market-ne...</td>\n",
       "      <td>Dec 19, 2023</td>\n",
       "      <td>By James Davey LONDON (Reuters) - In Britain, ...</td>\n",
       "    </tr>\n",
       "    <tr>\n",
       "      <th>3</th>\n",
       "      <td>https://www.investing.com/jp.php?v2=MHA-YGA3MG...</td>\n",
       "      <td>None</td>\n",
       "      <td>None</td>\n",
       "    </tr>\n",
       "    <tr>\n",
       "      <th>4</th>\n",
       "      <td>https://www.investing.com/news/stock-market-ne...</td>\n",
       "      <td>Dec 19, 2023</td>\n",
       "      <td>ZURICH (Reuters) -Cevian Capital has taken a 1...</td>\n",
       "    </tr>\n",
       "  </tbody>\n",
       "</table>\n",
       "</div>"
      ],
      "text/plain": [
       "                                                Link          Date   \n",
       "0  https://www.investing.com/news/stock-market-ne...  Dec 19, 2023  \\\n",
       "1  https://www.investing.com/news/stock-market-ne...  Dec 18, 2023   \n",
       "2  https://www.investing.com/news/stock-market-ne...  Dec 19, 2023   \n",
       "3  https://www.investing.com/jp.php?v2=MHA-YGA3MG...          None   \n",
       "4  https://www.investing.com/news/stock-market-ne...  Dec 19, 2023   \n",
       "\n",
       "                                                Text  \n",
       "0  By Anton Bridge and Makiko Yamazaki TOKYO (Reu...  \n",
       "1  By Ahmad Ghaddar LONDON (Reuters) -Attacks lau...  \n",
       "2  By James Davey LONDON (Reuters) - In Britain, ...  \n",
       "3                                               None  \n",
       "4  ZURICH (Reuters) -Cevian Capital has taken a 1...  "
      ]
     },
     "metadata": {},
     "output_type": "display_data"
    }
   ],
   "source": [
    "training_text = np.array(training_text)\n",
    "text_data_dict = {\n",
    "    \"Link\": training_links,\n",
    "    \"Date\": training_text[:,1],\n",
    "    \"Text\": training_text[:,0]\n",
    "}\n",
    "text_data = pd.DataFrame(text_data_dict)\n",
    "display(text_data.head())"
   ]
  },
  {
   "cell_type": "markdown",
   "metadata": {},
   "source": [
    "Once we have the dataframe, we can save the data and use it for our own analysis, whatever that may be."
   ]
  }
 ],
 "metadata": {
  "kernelspec": {
   "display_name": "CSCN8010_classic_ml",
   "language": "python",
   "name": "python3"
  },
  "language_info": {
   "codemirror_mode": {
    "name": "ipython",
    "version": 3
   },
   "file_extension": ".py",
   "mimetype": "text/x-python",
   "name": "python",
   "nbconvert_exporter": "python",
   "pygments_lexer": "ipython3",
   "version": "3.11.7"
  }
 },
 "nbformat": 4,
 "nbformat_minor": 2
}
