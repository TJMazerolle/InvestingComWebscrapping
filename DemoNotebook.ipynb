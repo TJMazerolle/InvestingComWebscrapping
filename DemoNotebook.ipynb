{
 "cells": [
  {
   "cell_type": "markdown",
   "metadata": {},
   "source": [
    "# Webscrapping investing.com\n",
    "\n",
    "#### By Troy Mazerolle\n",
    "\n",
    "The following notebook outlines how to scrap articles from the main news page of investing.com.  Following the link https://www.investing.com/news/stock-market-news/X, where X is the page number, we can extract a list of links from each page and then extract the text from each article that the link contains."
   ]
  },
  {
   "cell_type": "code",
   "execution_count": 5,
   "metadata": {},
   "outputs": [],
   "source": [
    "from ScrappingFunctions import *\n",
    "\n",
    "import numpy as np\n",
    "import pandas as pd"
   ]
  },
  {
   "cell_type": "markdown",
   "metadata": {},
   "source": [
    "Note that to run the chunk below you will need geckodriver.exe in the same folder that wherever you run the script is in.  Also, the script only has the option for Firefox as the browser it uses, so Firefox must be installed.\n",
    "\n"
   ]
  },
  {
   "cell_type": "code",
   "execution_count": 6,
   "metadata": {},
   "outputs": [
    {
     "name": "stdout",
     "output_type": "stream",
     "text": [
      "Number of Articles: 54\n"
     ]
    },
    {
     "data": {
      "text/plain": [
       "'https://www.investing.com/news/stock-market-news/australia-stocks-higher-at-close-of-trade-spasx-200-up-084-3259467'"
      ]
     },
     "metadata": {},
     "output_type": "display_data"
    }
   ],
   "source": [
    "training_links = get_training_links(2)\n",
    "print(\"Number of Articles:\", len(training_links))\n",
    "display(training_links[:5])"
   ]
  },
  {
   "cell_type": "code",
   "execution_count": 7,
   "metadata": {},
   "outputs": [
    {
     "data": {
      "text/plain": [
       "['Investing.com – Australia stocks were higher after the close on Tuesday, as gains in the Utilities, IT and Consumer Discretionary sectors led shares higher.\\nAt the close in Sydney, the S&P/ASX 200 rose 0.84% to hit a new 6-months high.\\nThe best performers of the session on the S&P/ASX 200 were  G8 Education Ltd  (ASX:GEM), which rose 12.56% or 0.13 points to trade at 1.12 at the close. Meanwhile,  Pointsbet Holdings Ltd  (ASX:PBH) added 7.69% or 0.07 points to end at 0.91 and Elders Ltd (ASX:ELD) was up 4.22% or 0.31 points to 7.66 in late trade.\\nThe worst performers of the session were Tabcorp Holdings Ltd (ASX:TAH), which fell 5.25% or 0.05 points to trade at 0.86 at the close.  Mesoblast  Ltd (ASX:MSB) declined 4.84% or 0.02 points to end at 0.29 and Zip Co Ltd (ASX:ZIP) was down 4.07% or 0.03 points to 0.59.\\nRising stocks outnumbered declining ones on the Sydney Stock Exchange by 697 to 544 and 372 ended unchanged.\\nThe S&P/ASX 200 VIX, which measures the implied volatility of S&P/ASX 200 options, was down 1.65% to 10.01.\\nGold Futures for February delivery was down 0.13% or 2.75 to $2,037.75 a troy ounce. Elsewhere in commodities trading, Crude oil for delivery in February rose 0.10% or 0.07 to hit $72.89 a barrel, while the February Brent oil contract rose 0.27% or 0.21 to trade at $78.16 a barrel.\\nAUD/USD was unchanged 0.30% to 0.67, while AUD/JPY rose 0.72% to 96.44.\\nThe US Dollar Index Futures was down 0.04% at 102.14.',\n",
       " 'Dec 19, 2023']"
      ]
     },
     "metadata": {},
     "output_type": "display_data"
    }
   ],
   "source": [
    "training_text = get_article_texts(training_links, tracker=False)\n",
    "display(training_text[:5])"
   ]
  },
  {
   "cell_type": "code",
   "execution_count": 8,
   "metadata": {},
   "outputs": [
    {
     "data": {
      "text/html": [
       "<div>\n",
       "<style scoped>\n",
       "    .dataframe tbody tr th:only-of-type {\n",
       "        vertical-align: middle;\n",
       "    }\n",
       "\n",
       "    .dataframe tbody tr th {\n",
       "        vertical-align: top;\n",
       "    }\n",
       "\n",
       "    .dataframe thead th {\n",
       "        text-align: right;\n",
       "    }\n",
       "</style>\n",
       "<table border=\"1\" class=\"dataframe\">\n",
       "  <thead>\n",
       "    <tr style=\"text-align: right;\">\n",
       "      <th></th>\n",
       "      <th>Link</th>\n",
       "      <th>Date</th>\n",
       "      <th>Text</th>\n",
       "    </tr>\n",
       "  </thead>\n",
       "  <tbody>\n",
       "    <tr>\n",
       "      <th>0</th>\n",
       "      <td>https://www.investing.com/news/stock-market-ne...</td>\n",
       "      <td>Dec 19, 2023</td>\n",
       "      <td>ZURICH (Reuters) -Cevian Capital has taken a 1...</td>\n",
       "    </tr>\n",
       "    <tr>\n",
       "      <th>1</th>\n",
       "      <td>https://www.investing.com/news/stock-market-ne...</td>\n",
       "      <td>Dec 19, 2023</td>\n",
       "      <td>(Reuters) - Digital mapping specialist TomTom ...</td>\n",
       "    </tr>\n",
       "    <tr>\n",
       "      <th>2</th>\n",
       "      <td>https://www.investing.com/news/stock-market-ne...</td>\n",
       "      <td>Dec 19, 2023</td>\n",
       "      <td>Investing.com – Japan stocks were higher after...</td>\n",
       "    </tr>\n",
       "    <tr>\n",
       "      <th>3</th>\n",
       "      <td>https://www.investing.com/jp.php?v2=MnI-YGM0MW...</td>\n",
       "      <td>None</td>\n",
       "      <td>None</td>\n",
       "    </tr>\n",
       "    <tr>\n",
       "      <th>4</th>\n",
       "      <td>https://www.investing.com/news/stock-market-ne...</td>\n",
       "      <td>Dec 18, 2023</td>\n",
       "      <td>By Mike Scarcella (Reuters) -Alphabet's Google...</td>\n",
       "    </tr>\n",
       "  </tbody>\n",
       "</table>\n",
       "</div>"
      ],
      "text/plain": [
       "                                                Link          Date   \n",
       "0  https://www.investing.com/news/stock-market-ne...  Dec 19, 2023  \\\n",
       "1  https://www.investing.com/news/stock-market-ne...  Dec 19, 2023   \n",
       "2  https://www.investing.com/news/stock-market-ne...  Dec 19, 2023   \n",
       "3  https://www.investing.com/jp.php?v2=MnI-YGM0MW...          None   \n",
       "4  https://www.investing.com/news/stock-market-ne...  Dec 18, 2023   \n",
       "\n",
       "                                                Text  \n",
       "0  ZURICH (Reuters) -Cevian Capital has taken a 1...  \n",
       "1  (Reuters) - Digital mapping specialist TomTom ...  \n",
       "2  Investing.com – Japan stocks were higher after...  \n",
       "3                                               None  \n",
       "4  By Mike Scarcella (Reuters) -Alphabet's Google...  "
      ]
     },
     "metadata": {},
     "output_type": "display_data"
    }
   ],
   "source": [
    "training_text = np.array(training_text)\n",
    "text_data_dict = {\n",
    "    \"Link\": training_links,\n",
    "    \"Date\": training_text[:,1],\n",
    "    \"Text\": training_text[:,0]\n",
    "}\n",
    "text_data = pd.DataFrame(text_data_dict)\n",
    "display(text_data.head())"
   ]
  }
 ],
 "metadata": {
  "kernelspec": {
   "display_name": "CSCN8010_classic_ml",
   "language": "python",
   "name": "python3"
  },
  "language_info": {
   "codemirror_mode": {
    "name": "ipython",
    "version": 3
   },
   "file_extension": ".py",
   "mimetype": "text/x-python",
   "name": "python",
   "nbconvert_exporter": "python",
   "pygments_lexer": "ipython3",
   "version": "3.11.7"
  }
 },
 "nbformat": 4,
 "nbformat_minor": 2
}
